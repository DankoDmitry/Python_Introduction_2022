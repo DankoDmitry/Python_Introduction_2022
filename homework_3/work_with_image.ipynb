{
 "cells": [
  {
   "cell_type": "markdown",
   "metadata": {},
   "source": [
    "# Работа с изображением\n",
    "\n",
    "## Цель\n",
    "\n",
    "Попробовать применить SVD-разложение для сжатия изображений. Описание работы и результаты оформите в виде одного ipynb блокнота и выложите в свой гитхаб репозиторий\n",
    "\n",
    "## Работа\n",
    "\n",
    "Для начила подключим нужные библиотеки"
   ]
  },
  {
   "cell_type": "code",
   "execution_count": 1,
   "metadata": {},
   "outputs": [],
   "source": [
    "from PIL import Image\n",
    "import numpy as np"
   ]
  },
  {
   "cell_type": "markdown",
   "metadata": {},
   "source": [
    "Теперь возьмём какое-нибудь изображение, например:\n",
    "\n",
    "![](car_in_color.jpg)\n",
    "\n",
    "Откроем его на Python при помощи библиотеки PIL (на самом деле pilow) и положим в переменную *img*\n",
    "\n",
    "При исползовании метода show картинка откроется в стандартном редакторе"
   ]
  },
  {
   "cell_type": "code",
   "execution_count": 2,
   "metadata": {},
   "outputs": [],
   "source": [
    "img = Image.open(\"car_in_color.jpg\")\n",
    "img.show()"
   ]
  },
  {
   "cell_type": "markdown",
   "metadata": {},
   "source": [
    "Теперь переведём нашу *картинку* в массив чисел, используя print можем увидеть сам массив"
   ]
  },
  {
   "cell_type": "code",
   "execution_count": 3,
   "metadata": {},
   "outputs": [],
   "source": [
    "arr = np.array(img)\n",
    "# print(arr)"
   ]
  },
  {
   "cell_type": "markdown",
   "metadata": {},
   "source": [
    "Для начала, разложим картинки на оттенки серго и попробуем применить SVD-разложение:"
   ]
  },
  {
   "cell_type": "code",
   "execution_count": 4,
   "metadata": {},
   "outputs": [],
   "source": [
    "def rgb2gray(rgb):\n",
    "\n",
    "    r, g, b = rgb[:,:,0], rgb[:,:,1], rgb[:,:,2]\n",
    "    gray = 0.2989 * r + 0.5870 * g + 0.1140 * b\n",
    "\n",
    "    return gray"
   ]
  },
  {
   "cell_type": "code",
   "execution_count": 5,
   "metadata": {},
   "outputs": [],
   "source": [
    "arr_gray = rgb2gray(arr)\n",
    "# print(arr_gray)\n",
    "# print(type(arr_gray))"
   ]
  },
  {
   "cell_type": "code",
   "execution_count": 6,
   "metadata": {},
   "outputs": [
    {
     "name": "stdout",
     "output_type": "stream",
     "text": [
      "<PIL.Image.Image image mode=F size=1280x850 at 0x20C6AF435E0>\n"
     ]
    }
   ],
   "source": [
    "arr_gray_img = Image.fromarray(arr_gray)\n",
    "print(arr_gray_img)\n",
    "arr_gray_img.show()"
   ]
  },
  {
   "cell_type": "code",
   "execution_count": 7,
   "metadata": {},
   "outputs": [],
   "source": [
    "U, S, V = np.linalg.svd(arr_gray)\n",
    "# print(U, S, V)"
   ]
  },
  {
   "cell_type": "code",
   "execution_count": 8,
   "metadata": {},
   "outputs": [
    {
     "name": "stdout",
     "output_type": "stream",
     "text": [
      "(850, 1280)\n",
      "(850, 850)\n",
      "(850,)\n",
      "(1280, 1280)\n"
     ]
    }
   ],
   "source": [
    "print(arr_gray.shape)\n",
    "print(U.shape)\n",
    "print(S.shape)\n",
    "print(V.shape)"
   ]
  },
  {
   "cell_type": "code",
   "execution_count": 9,
   "metadata": {},
   "outputs": [],
   "source": [
    "reconstim = np.matrix(U[:, :500]) * np.diag(S[:500]) * np.matrix(V[:500, :])\n",
    "reconstim = Image.fromarray(reconstim)\n",
    "reconstim.show()"
   ]
  },
  {
   "cell_type": "code",
   "execution_count": 10,
   "metadata": {},
   "outputs": [],
   "source": [
    "def create_pic(U, S, V, singul):\n",
    "    reconstim = np.matrix(U[:, :singul]) * np.diag(S[:singul]) * np.matrix(V[:singul, :])\n",
    "    reconstim = Image.fromarray(reconstim)\n",
    "    reconstim.show()"
   ]
  },
  {
   "cell_type": "code",
   "execution_count": 11,
   "metadata": {},
   "outputs": [],
   "source": [
    "for i in [1, 2, 10, 850]:\n",
    "    create_pic(U, S, V, i)"
   ]
  },
  {
   "cell_type": "code",
   "execution_count": 12,
   "metadata": {},
   "outputs": [],
   "source": [
    "# with open('car_in_gray.txt', 'w') as f:\n",
    "#     with np.printoptions(threshold=np.inf):\n",
    "#         f.write(str(U) + str(S) + str(V))\n",
    "#     f.close()"
   ]
  },
  {
   "cell_type": "markdown",
   "metadata": {},
   "source": [
    "Видим, что всё работает. \n",
    "\n",
    "Теперь применим подобное для основных rgb цветов и сложим картинку."
   ]
  },
  {
   "cell_type": "code",
   "execution_count": 15,
   "metadata": {},
   "outputs": [],
   "source": [
    "arr_r = arr[:,:,0]\n",
    "arr_g = arr[:,:,1]\n",
    "arr_b = arr[:,:,2]"
   ]
  },
  {
   "cell_type": "code",
   "execution_count": 44,
   "metadata": {},
   "outputs": [],
   "source": [
    "U_r, S_r, V_r = np.linalg.svd(arr_r, full_matrices = False)\n",
    "U_g, S_g, V_g = np.linalg.svd(arr_g, full_matrices = False)\n",
    "U_b, S_b, V_b = np.linalg.svd(arr_b, full_matrices = False)"
   ]
  },
  {
   "cell_type": "code",
   "execution_count": 38,
   "metadata": {},
   "outputs": [
    {
     "name": "stdout",
     "output_type": "stream",
     "text": [
      "(850, 1280)\n",
      "(850, 1280)\n"
     ]
    }
   ],
   "source": [
    "# Image.fromarray(np.matrix(U_r[:, :500]) * np.diag(S_r[:500]) * np.matrix(V_r[:500, :])).show()\n",
    "# Image.fromarray(np.matrix(U_g[:, :500]) * np.diag(S_g[:500]) * np.matrix(V_g[:500, :])).show()\n",
    "# Image.fromarray(np.matrix(U_b[:, :500]) * np.diag(S_b[:500]) * np.matrix(V_b[:500, :])).show()\n",
    "Aaa = np.matrix(U_r[:, :500]) * np.diag(S_r[:500]) * np.matrix(V_r[:500, :])\n",
    "print(np.shape(Aaa))\n",
    "Aaa = Aaa.reshape(850, 1280, 1)\n",
    "print(np.shape(Aaa))"
   ]
  },
  {
   "cell_type": "code",
   "execution_count": 56,
   "metadata": {},
   "outputs": [],
   "source": [
    "# for i in [1, 850]:\n",
    "#     r = np.matrix(U_r[:, :i]) * np.diag(S_r[:i]) * np.matrix(V_r[:i, :])\n",
    "#     g = np.matrix(U_g[:, :i]) * np.diag(S_g[:i]) * np.matrix(V_g[:i, :])\n",
    "#     b = np.matrix(U_b[:, :i]) * np.diag(S_b[:i]) * np.matrix(V_b[:i, :])\n",
    "#     r = r.reshape(850, 1280, 1)\n",
    "#     g = g.reshape(850, 1280, 1)\n",
    "#     b = b.reshape(850, 1280, 1)\n",
    "#     print(r.shape)\n",
    "#     Ima = np.concatenate((np.concatenate((r, g), axis = 2), b), axis = 2)\n",
    "#     Ima = Image.fromarray(Ima)\n",
    "#     Image.fromarray(np.asarray(Ima, dtype=np.uint8)).show()\n",
    "\n",
    "\n",
    "for r in range (1, 850, 170):\n",
    "    Y_r_red = U_r[:,:r].dot(np.diag(S_r[:r])).dot(V_r[:r,:]) \n",
    "    Y_r_red[Y_r_red < 0] = 0\n",
    "    Y_r_red[Y_r_red > 255] = 255\n",
    "    Y_r_red = Y_r_red.reshape(850, 1280, 1)\n",
    "    Y_r_green = U_g[:,:r].dot(np.diag(S_g[:r])).dot(V_g[:r,:]) \n",
    "    Y_r_green[Y_r_green < 0] = 0\n",
    "    Y_r_green[Y_r_green > 255] = 255\n",
    "    Y_r_green = Y_r_green.reshape(850, 1280, 1)\n",
    "    Y_r_blue = U_b[:,:r].dot(np.diag(S_b[:r])).dot(V_b[:r,:]) \n",
    "    Y_r_blue[Y_r_blue < 0] = 0\n",
    "    Y_r_blue[Y_r_blue > 255] = 255\n",
    "    Y_r_blue = Y_r_blue.reshape(850, 1280, 1)\n",
    "    Y_r = np.concatenate((np.concatenate((Y_r_red, Y_r_green), axis = 2), Y_r_blue), axis = 2)\n",
    "    Image.fromarray(np.asarray(Y_r, dtype=np.uint8)).save(f'{r}.meow.jpg')\n",
    "    "
   ]
  },
  {
   "cell_type": "markdown",
   "metadata": {},
   "source": [
    "Программа работает"
   ]
  }
 ],
 "metadata": {
  "kernelspec": {
   "display_name": "Python 3.10.6 64-bit",
   "language": "python",
   "name": "python3"
  },
  "language_info": {
   "codemirror_mode": {
    "name": "ipython",
    "version": 3
   },
   "file_extension": ".py",
   "mimetype": "text/x-python",
   "name": "python",
   "nbconvert_exporter": "python",
   "pygments_lexer": "ipython3",
   "version": "3.10.6"
  },
  "orig_nbformat": 4,
  "vscode": {
   "interpreter": {
    "hash": "46c4d7a06d9c9f3b4ce8e6b76538f5d2bc1addee6b5ebd23c8d981936e03d6fd"
   }
  }
 },
 "nbformat": 4,
 "nbformat_minor": 2
}
